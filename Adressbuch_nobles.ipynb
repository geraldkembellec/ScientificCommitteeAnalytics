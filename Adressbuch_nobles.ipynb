{
  "nbformat": 4,
  "nbformat_minor": 0,
  "metadata": {
    "colab": {
      "name": "Adressbuch_nobles.ipynb",
      "provenance": [],
      "authorship_tag": "ABX9TyMKQ6Ej87ntXaYINMVgShGE",
      "include_colab_link": true
    },
    "kernelspec": {
      "display_name": "Python 3",
      "name": "python3"
    },
    "language_info": {
      "name": "python"
    }
  },
  "cells": [
    {
      "cell_type": "markdown",
      "metadata": {
        "id": "view-in-github",
        "colab_type": "text"
      },
      "source": [
        "<a href=\"https://colab.research.google.com/github/geraldkembellec/ScientificCommitteeAnalytics/blob/master/Adressbuch_nobles.ipynb\" target=\"_parent\"><img src=\"https://colab.research.google.com/assets/colab-badge.svg\" alt=\"Open In Colab\"/></a>"
      ]
    },
    {
      "cell_type": "code",
      "metadata": {
        "colab": {
          "base_uri": "https://localhost:8080/",
          "height": 585
        },
        "id": "TqOtGnw-JmoY",
        "outputId": "37980954-1f83-4a61-aa2d-5e2bb99a38c3"
      },
      "source": [
        "# load the pandas library : to play with tables & figures\n",
        "import pandas as pd\n",
        "url = 'http://geraldkembellec.scienceontheweb.net/Deutsche_Noblen_in_Paris_im_Jahr_1854-2.csv'\n",
        "# load a CSV file dataframe\n",
        "# values separated by \",\" sign\n",
        "# data is the name of the dataframe\n",
        "data = pd.read_csv(url,sep = ';')\n",
        "# enumerate loaded columns\n",
        "columns_number=data.shape[1]\n",
        "# count numbers of nobles\n",
        "noble_number=data.shape[0]\n",
        "print(\"In the 1854 Adressbuch database we found\",noble_number,\"german nobles in Paris\")\n",
        "print(\"here you can see a sample of the dataset\")\n",
        "data"
      ],
      "execution_count": 1,
      "outputs": [
        {
          "output_type": "stream",
          "text": [
            "In the 1854 Adressbuch database we found 116 german nobles in Paris\n",
            "here you can see a sample of the dataset\n"
          ],
          "name": "stdout"
        },
        {
          "output_type": "execute_result",
          "data": {
            "text/html": [
              "<div>\n",
              "<style scoped>\n",
              "    .dataframe tbody tr th:only-of-type {\n",
              "        vertical-align: middle;\n",
              "    }\n",
              "\n",
              "    .dataframe tbody tr th {\n",
              "        vertical-align: top;\n",
              "    }\n",
              "\n",
              "    .dataframe thead th {\n",
              "        text-align: right;\n",
              "    }\n",
              "</style>\n",
              "<table border=\"1\" class=\"dataframe\">\n",
              "  <thead>\n",
              "    <tr style=\"text-align: right;\">\n",
              "      <th></th>\n",
              "      <th>id</th>\n",
              "      <th>surname</th>\n",
              "      <th>first_name</th>\n",
              "      <th>gender</th>\n",
              "      <th>title</th>\n",
              "      <th>profession_verbatim</th>\n",
              "      <th>occupation_group</th>\n",
              "      <th>de_l_institut</th>\n",
              "      <th>legion_d_honneur</th>\n",
              "      <th>status</th>\n",
              "      <th>military_status</th>\n",
              "    </tr>\n",
              "  </thead>\n",
              "  <tbody>\n",
              "    <tr>\n",
              "      <th>0</th>\n",
              "      <td>587</td>\n",
              "      <td>Mackau von</td>\n",
              "      <td>G.</td>\n",
              "      <td>M</td>\n",
              "      <td>Baron</td>\n",
              "      <td>Admiral, Senator</td>\n",
              "      <td>Militär</td>\n",
              "      <td>0</td>\n",
              "      <td>Chevalier</td>\n",
              "      <td>Active</td>\n",
              "      <td>Military</td>\n",
              "    </tr>\n",
              "    <tr>\n",
              "      <th>1</th>\n",
              "      <td>717</td>\n",
              "      <td>Schramm</td>\n",
              "      <td>G.</td>\n",
              "      <td>M</td>\n",
              "      <td>Graf</td>\n",
              "      <td>Divisionsgeneral, Senator</td>\n",
              "      <td>Militär</td>\n",
              "      <td>0</td>\n",
              "      <td>Chevalier</td>\n",
              "      <td>Active</td>\n",
              "      <td>Military</td>\n",
              "    </tr>\n",
              "    <tr>\n",
              "      <th>2</th>\n",
              "      <td>4110</td>\n",
              "      <td>Kronowski</td>\n",
              "      <td>NaN</td>\n",
              "      <td>M</td>\n",
              "      <td>Graf</td>\n",
              "      <td>Oberstlieutenant</td>\n",
              "      <td>Militär</td>\n",
              "      <td>0</td>\n",
              "      <td>NaN</td>\n",
              "      <td>Active</td>\n",
              "      <td>Military</td>\n",
              "    </tr>\n",
              "    <tr>\n",
              "      <th>3</th>\n",
              "      <td>12</td>\n",
              "      <td>Badens von</td>\n",
              "      <td>NaN</td>\n",
              "      <td>F</td>\n",
              "      <td>Gräfin</td>\n",
              "      <td>NaN</td>\n",
              "      <td>Adel</td>\n",
              "      <td>0</td>\n",
              "      <td>NaN</td>\n",
              "      <td>Active</td>\n",
              "      <td>Civil</td>\n",
              "    </tr>\n",
              "    <tr>\n",
              "      <th>4</th>\n",
              "      <td>97</td>\n",
              "      <td>Hamel von</td>\n",
              "      <td>NaN</td>\n",
              "      <td>M</td>\n",
              "      <td>Graf</td>\n",
              "      <td>NaN</td>\n",
              "      <td>Adel</td>\n",
              "      <td>0</td>\n",
              "      <td>NaN</td>\n",
              "      <td>Active</td>\n",
              "      <td>Civil</td>\n",
              "    </tr>\n",
              "    <tr>\n",
              "      <th>...</th>\n",
              "      <td>...</td>\n",
              "      <td>...</td>\n",
              "      <td>...</td>\n",
              "      <td>...</td>\n",
              "      <td>...</td>\n",
              "      <td>...</td>\n",
              "      <td>...</td>\n",
              "      <td>...</td>\n",
              "      <td>...</td>\n",
              "      <td>...</td>\n",
              "      <td>...</td>\n",
              "    </tr>\n",
              "    <tr>\n",
              "      <th>111</th>\n",
              "      <td>3808</td>\n",
              "      <td>Terlecki</td>\n",
              "      <td>NaN</td>\n",
              "      <td>M</td>\n",
              "      <td>Abbe</td>\n",
              "      <td>Doctor der Medecin u. Theologie, Vorsteher der...</td>\n",
              "      <td>Selbständig</td>\n",
              "      <td>0</td>\n",
              "      <td>NaN</td>\n",
              "      <td>Active</td>\n",
              "      <td>Civil</td>\n",
              "    </tr>\n",
              "    <tr>\n",
              "      <th>112</th>\n",
              "      <td>3874</td>\n",
              "      <td>Goschler</td>\n",
              "      <td>NaN</td>\n",
              "      <td>M</td>\n",
              "      <td>Abbe</td>\n",
              "      <td>Director des Collegiums Stanislaus</td>\n",
              "      <td>Selbständig</td>\n",
              "      <td>0</td>\n",
              "      <td>NaN</td>\n",
              "      <td>Active</td>\n",
              "      <td>Civil</td>\n",
              "    </tr>\n",
              "    <tr>\n",
              "      <th>113</th>\n",
              "      <td>3914</td>\n",
              "      <td>Jager</td>\n",
              "      <td>NaN</td>\n",
              "      <td>M</td>\n",
              "      <td>Abbe</td>\n",
              "      <td>Professor der Theologie</td>\n",
              "      <td>Selbständig</td>\n",
              "      <td>0</td>\n",
              "      <td>NaN</td>\n",
              "      <td>Active</td>\n",
              "      <td>Civil</td>\n",
              "    </tr>\n",
              "    <tr>\n",
              "      <th>114</th>\n",
              "      <td>1275</td>\n",
              "      <td>Ribbentrop von</td>\n",
              "      <td>Adolph</td>\n",
              "      <td>M</td>\n",
              "      <td>Baron</td>\n",
              "      <td>Rentner</td>\n",
              "      <td>Rentner</td>\n",
              "      <td>0</td>\n",
              "      <td>NaN</td>\n",
              "      <td>Pensioner</td>\n",
              "      <td>Civil</td>\n",
              "    </tr>\n",
              "    <tr>\n",
              "      <th>115</th>\n",
              "      <td>3750</td>\n",
              "      <td>Walsh</td>\n",
              "      <td>NaN</td>\n",
              "      <td>F</td>\n",
              "      <td>Gräfin</td>\n",
              "      <td>Eigenthümerin</td>\n",
              "      <td>Rentier</td>\n",
              "      <td>0</td>\n",
              "      <td>NaN</td>\n",
              "      <td>Annuitant</td>\n",
              "      <td>Civil</td>\n",
              "    </tr>\n",
              "  </tbody>\n",
              "</table>\n",
              "<p>116 rows × 11 columns</p>\n",
              "</div>"
            ],
            "text/plain": [
              "       id         surname  ...     status military_status\n",
              "0     587      Mackau von  ...     Active        Military\n",
              "1     717         Schramm  ...     Active        Military\n",
              "2    4110       Kronowski  ...     Active        Military\n",
              "3      12      Badens von  ...     Active           Civil\n",
              "4      97       Hamel von  ...     Active           Civil\n",
              "..    ...             ...  ...        ...             ...\n",
              "111  3808        Terlecki  ...     Active           Civil\n",
              "112  3874        Goschler  ...     Active           Civil\n",
              "113  3914           Jager  ...     Active           Civil\n",
              "114  1275  Ribbentrop von  ...  Pensioner           Civil\n",
              "115  3750           Walsh  ...  Annuitant           Civil\n",
              "\n",
              "[116 rows x 11 columns]"
            ]
          },
          "metadata": {},
          "execution_count": 1
        }
      ]
    },
    {
      "cell_type": "markdown",
      "metadata": {
        "id": "C135krKnfHiv"
      },
      "source": [
        "## What is the \" Légion d'honneur \" ?\n",
        "From the beginning (1802), the Legion of Honor was aimed at __both civilians and soldiers alike__. Napoleon is also credited with the famous sentence : \"I want to decorate my soldiers and my scientists\".\n",
        "\n",
        "<a title=\"David Ll L, CC BY-SA 4.0 &lt;https://creativecommons.org/licenses/by-sa/4.0&gt;, via Wikimedia Commons\" href=\"https://commons.wikimedia.org/wiki/File:Croix_de_la_Legion_d%27Honneur.svg\"><img width=\"128\" alt=\"Croix de la Legion d&#039;Honneur\" src=\"https://upload.wikimedia.org/wikipedia/commons/thumb/c/c4/Croix_de_la_Legion_d%27Honneur.svg/128px-Croix_de_la_Legion_d%27Honneur.svg.png\"></a>\n"
      ]
    },
    {
      "cell_type": "code",
      "metadata": {
        "id": "PZAbtJxVUzYw",
        "colab": {
          "base_uri": "https://localhost:8080/"
        },
        "outputId": "09381cb6-9ca3-4409-d10a-a2531281cf8b"
      },
      "source": [
        "# I ask the notebook to install something to enable \n",
        "# semantic communication with dbpedia\n",
        "# the query langage is SPARQL\n",
        "%pip install SPARQLWrapper\n",
        "from IPython.display import Image\n",
        "from SPARQLWrapper import SPARQLWrapper, JSON\n",
        "import urllib.parse\n",
        "\n",
        "# Specify the DBPedia endpoint\n",
        "sparql = SPARQLWrapper(\"http://dbpedia.org/sparql\")\n",
        "\n",
        "# Query for the description of \"Legion_of_Honour\", filtered by language \n",
        "sparql.setQuery(\"\"\"\n",
        "PREFIX dbpedia-owl: <http://dbpedia.org/ontology/>              \n",
        "PREFIX rdfs: <http://www.w3.org/2000/01/rdf-schema#>                \n",
        "SELECT ?label ?comment ?thumbnail\n",
        "WHERE {                                \n",
        "  <http://dbpedia.org/resource/Legion_of_Honour> rdfs:label ?label .                \n",
        "  <http://dbpedia.org/resource/Legion_of_Honour> rdfs:comment ?comment .                               \n",
        "  <http://dbpedia.org/resource/Legion_of_Honour> dbpedia-owl:thumbnail ?thumbnail .   \n",
        "FILTER (LANG(?label)='en' AND LANG(?comment)='en')                              \n",
        "}  \n",
        "\"\"\")\n",
        "\n",
        "# Convert results to JSON format\n",
        "sparql.setReturnFormat(JSON)\n",
        "result = sparql.query().convert()\n",
        "\n",
        "for hit in result[\"results\"][\"bindings\"]:\n",
        "  abstract=hit[\"comment\"][\"value\"]\n",
        "  pic=hit[\"thumbnail\"][\"value\"]\n",
        "  print(pic)\n",
        "  print(abstract)\n",
        "\n",
        "encoded_pic = urllib.parse.quote(pic)\n",
        "#display(Image(filename=encoded_pic))\n",
        "#print(encoded_pic)\n",
        "# --> Unfortunatelly it contains wrong charaters i.e. \"é\" or \" ' \", so the image URL is not usable"
      ],
      "execution_count": 2,
      "outputs": [
        {
          "output_type": "stream",
          "text": [
            "Collecting SPARQLWrapper\n",
            "  Downloading SPARQLWrapper-1.8.5-py3-none-any.whl (26 kB)\n",
            "Collecting rdflib>=4.0\n",
            "  Downloading rdflib-6.0.0-py3-none-any.whl (376 kB)\n",
            "\u001b[?25l\r\u001b[K     |▉                               | 10 kB 26.4 MB/s eta 0:00:01\r\u001b[K     |█▊                              | 20 kB 33.3 MB/s eta 0:00:01\r\u001b[K     |██▋                             | 30 kB 38.8 MB/s eta 0:00:01\r\u001b[K     |███▌                            | 40 kB 6.5 MB/s eta 0:00:01\r\u001b[K     |████▍                           | 51 kB 8.0 MB/s eta 0:00:01\r\u001b[K     |█████▏                          | 61 kB 7.9 MB/s eta 0:00:01\r\u001b[K     |██████                          | 71 kB 8.1 MB/s eta 0:00:01\r\u001b[K     |███████                         | 81 kB 9.1 MB/s eta 0:00:01\r\u001b[K     |███████▉                        | 92 kB 10.0 MB/s eta 0:00:01\r\u001b[K     |████████▊                       | 102 kB 11.0 MB/s eta 0:00:01\r\u001b[K     |█████████▋                      | 112 kB 11.0 MB/s eta 0:00:01\r\u001b[K     |██████████▍                     | 122 kB 11.0 MB/s eta 0:00:01\r\u001b[K     |███████████▎                    | 133 kB 11.0 MB/s eta 0:00:01\r\u001b[K     |████████████▏                   | 143 kB 11.0 MB/s eta 0:00:01\r\u001b[K     |█████████████                   | 153 kB 11.0 MB/s eta 0:00:01\r\u001b[K     |██████████████                  | 163 kB 11.0 MB/s eta 0:00:01\r\u001b[K     |██████████████▉                 | 174 kB 11.0 MB/s eta 0:00:01\r\u001b[K     |███████████████▋                | 184 kB 11.0 MB/s eta 0:00:01\r\u001b[K     |████████████████▌               | 194 kB 11.0 MB/s eta 0:00:01\r\u001b[K     |█████████████████▍              | 204 kB 11.0 MB/s eta 0:00:01\r\u001b[K     |██████████████████▎             | 215 kB 11.0 MB/s eta 0:00:01\r\u001b[K     |███████████████████▏            | 225 kB 11.0 MB/s eta 0:00:01\r\u001b[K     |████████████████████            | 235 kB 11.0 MB/s eta 0:00:01\r\u001b[K     |████████████████████▉           | 245 kB 11.0 MB/s eta 0:00:01\r\u001b[K     |█████████████████████▊          | 256 kB 11.0 MB/s eta 0:00:01\r\u001b[K     |██████████████████████▋         | 266 kB 11.0 MB/s eta 0:00:01\r\u001b[K     |███████████████████████▌        | 276 kB 11.0 MB/s eta 0:00:01\r\u001b[K     |████████████████████████▍       | 286 kB 11.0 MB/s eta 0:00:01\r\u001b[K     |█████████████████████████▎      | 296 kB 11.0 MB/s eta 0:00:01\r\u001b[K     |██████████████████████████      | 307 kB 11.0 MB/s eta 0:00:01\r\u001b[K     |███████████████████████████     | 317 kB 11.0 MB/s eta 0:00:01\r\u001b[K     |███████████████████████████▉    | 327 kB 11.0 MB/s eta 0:00:01\r\u001b[K     |████████████████████████████▊   | 337 kB 11.0 MB/s eta 0:00:01\r\u001b[K     |█████████████████████████████▋  | 348 kB 11.0 MB/s eta 0:00:01\r\u001b[K     |██████████████████████████████▌ | 358 kB 11.0 MB/s eta 0:00:01\r\u001b[K     |███████████████████████████████▎| 368 kB 11.0 MB/s eta 0:00:01\r\u001b[K     |████████████████████████████████| 376 kB 11.0 MB/s \n",
            "\u001b[?25hRequirement already satisfied: setuptools in /usr/local/lib/python3.7/dist-packages (from rdflib>=4.0->SPARQLWrapper) (57.4.0)\n",
            "Requirement already satisfied: pyparsing in /usr/local/lib/python3.7/dist-packages (from rdflib>=4.0->SPARQLWrapper) (2.4.7)\n",
            "Collecting isodate\n",
            "  Downloading isodate-0.6.0-py2.py3-none-any.whl (45 kB)\n",
            "\u001b[?25l\r\u001b[K     |███████▏                        | 10 kB 38.3 MB/s eta 0:00:01\r\u001b[K     |██████████████▍                 | 20 kB 41.4 MB/s eta 0:00:01\r\u001b[K     |█████████████████████▌          | 30 kB 48.3 MB/s eta 0:00:01\r\u001b[K     |████████████████████████████▊   | 40 kB 50.3 MB/s eta 0:00:01\r\u001b[K     |████████████████████████████████| 45 kB 4.2 MB/s \n",
            "\u001b[?25hRequirement already satisfied: six in /usr/local/lib/python3.7/dist-packages (from isodate->rdflib>=4.0->SPARQLWrapper) (1.15.0)\n",
            "Installing collected packages: isodate, rdflib, SPARQLWrapper\n",
            "Successfully installed SPARQLWrapper-1.8.5 isodate-0.6.0 rdflib-6.0.0\n",
            "http://commons.wikimedia.org/wiki/Special:FilePath/Chevalier_légion_d'honneur_2.png?width=300\n",
            "The Legion of Honour is the highest French order of merit, both military and civil. Established in 1802 by Napoleon Bonaparte, it has been retained by all later French governments and régimes. The order's motto is Honneur et Patrie (\"Honour and Fatherland\"), and its seat is the Palais de la Légion d'Honneur next to the Musée d'Orsay, on the left bank of the Seine in Paris. The order is divided into five degrees of increasing distinction: Chevalier (Knight), Officier (Officer), Commandeur (Commander), Grand officier (Grand Officer), and Grand-croix (Grand Cross).\n"
          ],
          "name": "stdout"
        }
      ]
    },
    {
      "cell_type": "code",
      "metadata": {
        "colab": {
          "base_uri": "https://localhost:8080/"
        },
        "id": "3sYabPcOJpZP",
        "outputId": "c173e7ad-8770-403e-dab2-06cc74d888b0"
      },
      "source": [
        "#print(data.loc[(data['Beruf_Kategorie']==job),:])\n",
        "number_chevaliers=data.value_counts(data['legion_d_honneur']==\"Chevalier\")\n",
        "number_officiers=data.value_counts(data['legion_d_honneur']==\"Officier\")\n",
        "number_grand_officiers=data.value_counts(data['legion_d_honneur']==\"Grand Officier\")\n",
        "number_grand_croix=data.value_counts(data['legion_d_honneur']==\"Grand-Croix\")\n",
        "print(\"In the dataset of noble German in Paris in 1854, dealing with 'la Légion d'honneur':\")\n",
        "print(\"-\",number_chevaliers.values[1],\"had the 'chevalier' grade\")\n",
        "print(\"-\",number_officiers.values[1],\"had the 'officier' grade\")\n",
        "print(\"-\",number_grand_officiers.values[1],\"had 'grand officier' grade\") \n",
        "print(\"- and none had 'Commander' or 'Grand-Croix' grade\")"
      ],
      "execution_count": null,
      "outputs": [
        {
          "output_type": "stream",
          "text": [
            "In the dataset of noble German in Paris in 1854, dealing with 'la Légion d'honneur':\n",
            "- 13 had the 'chevalier' grade\n",
            "- 2 had the 'officier' grade\n",
            "- 1 had 'grand officier' grade\n",
            "- and none had 'Commander' or 'Grand-Croix' grade\n"
          ],
          "name": "stdout"
        }
      ]
    },
    {
      "cell_type": "code",
      "metadata": {
        "colab": {
          "base_uri": "https://localhost:8080/"
        },
        "id": "YqqSVjYYrI8-",
        "outputId": "a3385ed7-cc69-488d-ca52-844da3c032d8"
      },
      "source": [
        "# i is a counter for nobles without \"Légion d'honneur\"\n",
        "i=0\n",
        "ldh_noble = []\n",
        "decorations = []\n",
        "for monindex, ligne in data.iterrows():\n",
        "  # move \"von\" before the familly name\n",
        "  chaine = ligne[\"surname\"]\n",
        "  chaine2=chaine.replace(\" von\", \"\")\n",
        "  familly_name=\"von \"+chaine2\n",
        "  taille_legion=len(str(ligne[\"legion_d_honneur\"]))\n",
        "  if taille_legion > 3:\n",
        "    #print(\"chiffre sensé être > 3 : \",taille_legion)\n",
        "    taille_firstname = len(str(ligne[\"first_name\"]))\n",
        "    decorations.append(ligne[\"legion_d_honneur\"])\n",
        "    # 3 is the size for NaN type \n",
        "    if taille_firstname == 3:\n",
        "      print(ligne[\"title\"]+\" \"+familly_name+\", \"+ligne[\"military_status\"]+\", \"+ligne[\"legion_d_honneur\"])\n",
        "      current = { \"id\":ligne[\"id\"],\"first_name=\":\"Unknown\",\"legion_grade\":ligne[\"legion_d_honneur\"]}\n",
        "    else:\n",
        "      print(ligne[\"title\"]+\" \"+familly_name+\", \"+ligne[\"first_name\"]+\", \"+ligne[\"military_status\"]+\", \"+ligne[\"legion_d_honneur\"])\n",
        "      current = { \"id\":ligne[\"id\"],\"first_name=\":ligne[\"first_name\"],\"legion_grade\":ligne[\"legion_d_honneur\"]}\n",
        "  else:\n",
        "    i=i+1\n",
        "  ldh_noble.append(current)\n",
        "#print(ldh_noble)\n",
        "#print(decorations)\n",
        "nb_lgh=i\n",
        "print(\"There were\",nb_lgh,\"nobles without 'Légion d'honneur' on the population of\",noble_number)"
      ],
      "execution_count": null,
      "outputs": [
        {
          "output_type": "stream",
          "text": [
            "Baron von Mackau, G., Military, Chevalier\n",
            "Graf von Schramm, G., Military, Chevalier\n",
            "General Graf von Ordener, G. O., Civil, Chevalier\n",
            "Graf Miglied des Instituts von Pradel, O., Civil, Chevalier\n",
            "Graf von Nieuwerkerke, Civil, Officier\n",
            "Baron von Billing, C., Civil, Chevalier\n",
            "Graf von Fezensac, Civil, Chevalier\n",
            "Graf von Lövenhielm, G. O., Civil, Chevalier\n",
            "Baron von Wolbock, Civil, Chevalier\n",
            "Herzog von Elchingen, O., Civil, Chevalier\n",
            "Baron von Rothschild, Salomon, Civil, Grand Officier\n",
            "Graf von Tascher, O., Civil, Chevalier\n",
            "Baron von Rothschild, Joh. G.O., Civil, Chevalier\n",
            "Baron von Langsdorff, O., Civil, Chevalier\n",
            "Graf von Nieuwerkerke, Civil, Officier\n",
            "Baron von Heeckeren, Civil, Chevalier\n",
            "There were 100 nobles without 'Légion d'honneur' on the population of 116\n"
          ],
          "name": "stdout"
        }
      ]
    },
    {
      "cell_type": "code",
      "metadata": {
        "colab": {
          "base_uri": "https://localhost:8080/",
          "height": 296
        },
        "id": "-mtHRNRJ5weI",
        "outputId": "9cbf242b-72b2-4da7-d11e-491470fa05c4"
      },
      "source": [
        "from matplotlib import pyplot as plt\n",
        "decorations_list_ldh = ['Chevalier','Officier','Grand Officier']\n",
        "decorations_count_ldh = [decorations.count('Chevalier'),decorations.count('Officier'),decorations.count('Grand Officier')]\n",
        "plt.bar(decorations_list_ldh,decorations_count_ldh)\n",
        "plt.title(\"Number of german nobles in Paris with the 'légion d'honneur' in 1854\")\n",
        "plt.xlabel(\"Rank of 'Légion d'honneur'\")\n",
        "plt.ylabel(\"Number of units\")\n",
        "plt.show()"
      ],
      "execution_count": null,
      "outputs": [
        {
          "output_type": "display_data",
          "data": {
            "image/png": "[encoded data removed]",
            "text/plain": [
              "<Figure size 432x288 with 1 Axes>"
            ]
          },
          "metadata": {
            "needs_background": "light"
          }
        }
      ]
    },
    {
      "cell_type": "code",
      "metadata": {
        "colab": {
          "base_uri": "https://localhost:8080/"
        },
        "id": "qpZ-TF1_idMp",
        "outputId": "8615b8a6-1455-4868-ac1d-7f72b63cabbf"
      },
      "source": [
        "percent_of_nobles_with_lgh= noble_number / 100 * nb_lgh\n",
        "print(str(percent_of_nobles_with_lgh) + \"% of noble Germans in Paris in 1854 received one of the 'Légion d'honneur' distinction\")"
      ],
      "execution_count": null,
      "outputs": [
        {
          "output_type": "stream",
          "text": [
            "18.56% of noble Germans in Paris in 1854 received one of the 'Légion d'honneur' distinction\n"
          ],
          "name": "stdout"
        }
      ]
    },
    {
      "cell_type": "code",
      "metadata": {
        "id": "8rCAq7nJcbdy",
        "colab": {
          "base_uri": "https://localhost:8080/"
        },
        "outputId": "e210cd02-00f2-4131-9687-a7bc587c40b5"
      },
      "source": [
        "# pas fou\n",
        "soldier_status=data.value_counts(data['occupation_group']==\"Militär\")\n",
        "noble_status=data.value_counts(data['occupation_group']==\"Adel\")\n",
        "functionary_status=data.value_counts(data['occupation_group']==\"Beamte\")\n",
        "self_employed_status=data.value_counts(data['occupation_group']==\"Selbständig\")\n",
        "craftsmen_status=data.value_counts(data['occupation_group']==\"Handwerk\")\n",
        "merchants_status=data.value_counts(data['occupation_group']==\"Handel\")\n",
        "retired_status=data.value_counts(data['occupation_group']==\"Rentner\")\n",
        "annuitant_status=data.value_counts(data['occupation_group']==\"Rentier\")\n",
        "print(noble_status[True])\n",
        "print(soldier_status[True])\n",
        "print(functionary_status[True])\n",
        "print(self_employed_status[True])\n",
        "print(craftsmen_status[True])\n",
        "print(merchants_status[True])\n",
        "print(retired_status[True])\n",
        "print(annuitant_status[True])"
      ],
      "execution_count": null,
      "outputs": [
        {
          "output_type": "stream",
          "text": [
            "89\n",
            "3\n",
            "15\n",
            "4\n",
            "2\n",
            "1\n",
            "1\n",
            "1\n"
          ],
          "name": "stdout"
        }
      ]
    },
    {
      "cell_type": "code",
      "metadata": {
        "colab": {
          "base_uri": "https://localhost:8080/"
        },
        "id": "q-CzTyQSxgXt",
        "outputId": "28b5ef1e-d04a-402b-b692-82d4051af231"
      },
      "source": [
        "occupation_nobles = []\n",
        "for i,ligne in data.iterrows():\n",
        "  current_occupation = ligne[\"occupation_group\"]\n",
        "  occupation_nobles.append(current_occupation)\n",
        "print(occupation_nobles)"
      ],
      "execution_count": null,
      "outputs": [
        {
          "output_type": "stream",
          "text": [
            "['Militär', 'Militär', 'Militär', 'Adel', 'Adel', 'Adel', 'Adel', 'Adel', 'Beamte', 'Adel', 'Adel', 'Adel', 'Adel', 'Adel', 'Adel', 'Adel', 'Adel', 'Beamte', 'Adel', 'Adel', 'Adel', 'Adel', 'Adel', 'Adel', 'Adel', 'Adel', 'Adel', 'Adel', 'Adel', 'Beamte', 'Adel', 'Adel', 'Beamte', 'Adel', 'Adel', 'Beamte', 'Adel', 'Adel', 'Adel', 'Adel', 'Selbständig', 'Adel', 'Adel', 'Adel', 'Beamte', 'Adel', 'Beamte', 'Adel', 'Adel', 'Adel', 'Adel', 'Adel', 'Adel', 'Handwerk', 'Adel', 'Adel', 'Beamte', 'Adel', 'Adel', 'Adel', 'Beamte', 'Adel', 'Adel', 'Adel', 'Adel', 'Adel', 'Beamte', 'Adel', 'Beamte', 'Handwerk', 'Adel', 'Adel', 'Handel', 'Adel', 'Beamte', 'Adel', 'Adel', 'Adel', 'Adel', 'Adel', 'Adel', 'Adel', 'Adel', 'Beamte', 'Adel', 'Beamte', 'Adel', 'Adel', 'Adel', 'Adel', 'Adel', 'Adel', 'Adel', 'Adel', 'Adel', 'Adel', 'Adel', 'Beamte', 'Adel', 'Adel', 'Adel', 'Adel', 'Adel', 'Adel', 'Adel', 'Adel', 'Adel', 'Adel', 'Adel', 'Adel', 'Adel', 'Selbständig', 'Selbständig', 'Selbständig', 'Rentner', 'Rentier']\n"
          ],
          "name": "stdout"
        }
      ]
    },
    {
      "cell_type": "code",
      "metadata": {
        "colab": {
          "base_uri": "https://localhost:8080/",
          "height": 292
        },
        "id": "07JGwTHUk_9C",
        "outputId": "3bfcf1ea-b467-48c9-9ecf-60055ad86daf"
      },
      "source": [
        "occupation_list_nobles_status = ['No real information',\n",
        "                                 'Soldiers',\n",
        "                                 'Officials',\n",
        "                                 'Self employed',\n",
        "                                 'Craftsmen',\n",
        "                                 'Merchants',\n",
        "                                 'Retired',\n",
        "                                 'Annuitants'\n",
        "                                 ]\n",
        "occupation_count_list = [occupation_nobles.count('Adel'),\n",
        "                         occupation_nobles.count('Militär'),\n",
        "                         occupation_nobles.count('Beamte'),\n",
        "                         occupation_nobles.count('Selbständig'),\n",
        "                         occupation_nobles.count('Handwerk'),\n",
        "                         occupation_nobles.count('Handel'),\n",
        "                         occupation_nobles.count('Rentner'),\n",
        "                         occupation_nobles.count('Rentier')\n",
        "                         ]\n",
        "labels = occupation_list_nobles_status\n",
        "sizes = occupation_count_list\n",
        "explode = (0, 0, 0.1, 0, 0, 0, 0, 0)  # only \"explode\" the 2nd slice:'officials' \n",
        "fig1, ax1 = plt.subplots()\n",
        "ax1.pie(sizes, explode=explode, labels=labels, shadow=True, labeldistance = 1.4)\n",
        "ax1.axis('equal')  # Equal aspect ratio ensures that pie is drawn as a circle.\n",
        "plt.title(\"German nobles' occupation in Paris in 1854\")\n",
        "plt.show()"
      ],
      "execution_count": null,
      "outputs": [
        {
          "output_type": "display_data",
          "data": {
            "image/png": "[encoded data removed]",
            "text/plain": [
              "<Figure size 432x288 with 1 Axes>"
            ]
          },
          "metadata": {}
        }
      ]
    },
    {
      "cell_type": "code",
      "metadata": {
        "id": "C9QzumhZC9j0",
        "colab": {
          "base_uri": "https://localhost:8080/",
          "height": 264
        },
        "outputId": "3a3c27e2-6577-4cfc-ee40-0c39881f3740"
      },
      "source": [
        "title_nobles = []\n",
        "for i,ligne in data.iterrows():\n",
        "  current_title = ligne['title']\n",
        "  if 'Graf' in current_title:\n",
        "    title_nobles.append('Graf or Gräfin')\n",
        "    #print('Graf or Gräfin')\n",
        "  elif ('Gräfin' in current_title):\n",
        "    title_nobles.append('Graf or Gräfin')\n",
        "  elif 'Prinz' in current_title:\n",
        "    title_nobles.append('Prinz or Prinzessin')\n",
        "    #print('Prinz or Prinzessin')\n",
        "  elif 'Baron' in current_title:\n",
        "    title_nobles.append('Baron or Baronnin')\n",
        "    #print('Baron or Baronnin')\n",
        "  elif 'Nachfolger' in current_title:\n",
        "    #print('Successor')\n",
        "    title_nobles.append('Successor')\n",
        "  elif 'Abbe' in current_title:\n",
        "    #print('Abbe')\n",
        "    title_nobles.append('Abbe')\n",
        "  elif 'Marquis' in current_title:\n",
        "    #print('Marquis or Marquise')\n",
        "    title_nobles.append('Marquis or Marquise')\n",
        "  elif 'Herzog' in current_title:\n",
        "    #print(\"Herzog or Herzogin\")\n",
        "    title_nobles.append('Herzog or Herzogin')\n",
        "  else:\n",
        "    title_nobles.append(current_title)\n",
        "    print(\"hum : \"+current_title)\n",
        "#print(title_nobles)\n",
        "nobles_status=['Graf',\n",
        "               'Prinz',\n",
        "               'Baron',\n",
        "               'Successor',\n",
        "               'Abbé',\n",
        "               'Marquis',\n",
        "               'Herzog'\n",
        "              ]\n",
        "nobles_status_list = [\n",
        "                      title_nobles.count('Graf or Gräfin'),\n",
        "                      title_nobles.count('Prinz or Prinzessin'),\n",
        "                      title_nobles.count('Baron or Baronnin'),\n",
        "                      title_nobles.count('Successor'),\n",
        "                      title_nobles.count('Abbe'),\n",
        "                      title_nobles.count('Marquis or Marquise'),\n",
        "                      title_nobles.count('Herzog or Herzogin'),\n",
        "                      ]\n",
        "#print(nobles_status_list)\n",
        "labels = nobles_status\n",
        "sizes = nobles_status_list\n",
        "fig1, ax1 = plt.subplots()\n",
        "explode = (0, 0, 0.1, 0, 0, 0, 0)  # only \"explode\" the 2nd slice \n",
        "ax1.pie(sizes, explode=explode,labels=labels,shadow=True, labeldistance = 1.1)\n",
        "ax1.axis('equal')  # Equal aspect ratio ensures that pie is drawn as a circle.\n",
        "plt.title(\"German nobles' title\")\n",
        "plt.legend()\n",
        "plt.show()\n"
      ],
      "execution_count": null,
      "outputs": [
        {
          "output_type": "display_data",
          "data": {
            "image/png": "[encoded data removed]",
            "text/plain": [
              "<Figure size 432x288 with 1 Axes>"
            ]
          },
          "metadata": {}
        }
      ]
    },
    {
      "cell_type": "code",
      "metadata": {
        "id": "Bu8tSPCDbf6g"
      },
      "source": [
        ""
      ],
      "execution_count": null,
      "outputs": []
    }
  ]
}